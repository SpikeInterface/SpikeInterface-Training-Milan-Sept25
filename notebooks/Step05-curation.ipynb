{
 "cells": [
  {
   "cell_type": "markdown",
   "id": "e0a7c514-52a3-4655-a089-e524713694a3",
   "metadata": {},
   "source": [
    "# Curation\n",
    "\n",
    "In this tutorial we will show curate spike sorting results automatically using quality metrics and automatic labeling."
   ]
  },
  {
   "cell_type": "code",
   "execution_count": null,
   "id": "abb9ade6-b325-45c7-9c86-eecf68f6a0c1",
   "metadata": {},
   "outputs": [],
   "source": [
    "import warnings\n",
    "from pathlib import Path\n",
    "import numpy as np\n",
    "import pandas as pd\n",
    "import json\n",
    "\n",
    "import spikeinterface as si\n",
    "import spikeinterface.curation as sc\n",
    "import spikeinterface.widgets as sw\n",
    "\n",
    "import matplotlib.pyplot as plt"
   ]
  },
  {
   "cell_type": "code",
   "execution_count": null,
   "id": "c828d75e-36dc-4a4d-a53a-34cc1147935d",
   "metadata": {},
   "outputs": [],
   "source": [
    "warnings.filterwarnings(\"ignore\")"
   ]
  },
  {
   "cell_type": "code",
   "execution_count": null,
   "id": "e15f208d-7229-4f4d-afab-8106d9ba5ee0",
   "metadata": {},
   "outputs": [],
   "source": [
    "%matplotlib widget"
   ]
  },
  {
   "cell_type": "code",
   "execution_count": null,
   "id": "1f559a38-5830-4795-896a-852ffdd7bd8d",
   "metadata": {},
   "outputs": [],
   "source": [
    "si.set_global_job_kwargs(n_jobs=0.5)"
   ]
  },
  {
   "cell_type": "code",
   "execution_count": null,
   "id": "5413f167-fd1a-413e-b075-401e9da97237",
   "metadata": {},
   "outputs": [],
   "source": [
    "base_data_folder = Path(\"/project/dlb/Dataset/SpikeInterface\")\n",
    "working_folder = Path(\"/localscratch/\")"
   ]
  },
  {
   "cell_type": "code",
   "execution_count": null,
   "id": "a8a7163d-173f-4515-95e0-c52b6f3b9a2d",
   "metadata": {},
   "outputs": [],
   "source": [
    "sorter = \"KS4\"\n",
    "recording_name = \"M25_D23_2024-11-11_13-11-10_OF1\"\n",
    "results_folder = working_folder / recording_name"
   ]
  },
  {
   "cell_type": "code",
   "execution_count": null,
   "id": "40badd92-2364-4cd1-a9b9-ac8f38e23df3",
   "metadata": {},
   "outputs": [],
   "source": [
    "# load SortingAnalyzer from previous step\n",
    "analyzer_folder = results_folder / f\"analyzer_{sorter}\"\n",
    "\n",
    "if analyzer_folder.is_dir():\n",
    "    print(\"Loading analyzer from disk\")\n",
    "    analyzer = si.load(analyzer_folder, load_extensions=True)\n",
    "else:\n",
    "    recording_preprocessed = si.load(f\"preprocessed_{recording_name}\")\n",
    "    sorting = si.load(f\"sorting_{sorter}_{recording_name}\")\n",
    "    analyzer = si.create_sorting_analyzer(sorting, recording_preprocessed)\n",
    "    extension_dict = {\n",
    "        \"random_spikes\": {},\n",
    "        \"noise_levels\": {},\n",
    "        \"waveforms\": {},\n",
    "        \"templates\": {},\n",
    "        \"template_similarity\": {\"method\": \"l1\"},\n",
    "        \"template_metrics\": {\"include_multi_channel_metrics\": True},\n",
    "        \"correlograms\": {},\n",
    "        \"unit_locations\": {},\n",
    "        \"spike_amplitudes\": {},\n",
    "        \"spike_locations\": {\"method\": \"grid_convolution\"},\n",
    "        \"quality_metrics\": {}\n",
    "    }\n",
    "    analyzer.compute(extension_dict)\n",
    "    analyzer.save_as(folder=analyzer_folder, format=\"binary_folder\")\n",
    "analyzer"
   ]
  },
  {
   "cell_type": "markdown",
   "id": "d0daf4d9-0c5d-4010-9a47-5da013d68d27",
   "metadata": {},
   "source": [
    "### Remove redundant units\n",
    "\n"
   ]
  },
  {
   "cell_type": "code",
   "execution_count": null,
   "id": "21132d2b-c5a6-4461-a254-de5eb986ac4a",
   "metadata": {},
   "outputs": [],
   "source": [
    "sorting_clean = sc.remove_redundant_units(analyzer)\n",
    "if len(sorting_clean.unit_ids) < len(analyzer.unit_ids):\n",
    "    num_redundant = len(analyzer.unit_ids) - len(sorting_clean.unit_ids)\n",
    "    print(f\"Found {num_redundant} redundant units\")\n",
    "    analyzer = analyzer.select_units(sorting_clean)"
   ]
  },
  {
   "cell_type": "code",
   "execution_count": null,
   "id": "87a0658a-a425-4bf5-b703-2d9c41148bdf",
   "metadata": {},
   "outputs": [],
   "source": [
    "num_uncurated_units = len(analyzer.unit_ids)"
   ]
  },
  {
   "cell_type": "code",
   "execution_count": null,
   "id": "fa5c615f-0212-4518-9256-fb6f39b536be",
   "metadata": {},
   "outputs": [],
   "source": [
    "_ = sw.plot_unit_templates(analyzer, backend=\"ipywidgets\")"
   ]
  },
  {
   "cell_type": "markdown",
   "id": "c02259b3-5db0-4a02-8c61-01e19654602f",
   "metadata": {},
   "source": [
    "### Quality metric-based curation\n",
    "\n",
    "This strategy for curation uses different thresholds on quality metrics. Quality metrics are designed to quantify different aspects of a unit, such as amplitude, SNR, drift, ISI violations, spike train completeness, and more.\n",
    "\n",
    "A ful list of available quality metrics is available [here](https://spikeinterface.readthedocs.io/en/latest/modules/qualitymetrics.html)."
   ]
  },
  {
   "cell_type": "code",
   "execution_count": null,
   "id": "41e7f272-8d78-49fb-b8a0-76ce4e264568",
   "metadata": {},
   "outputs": [],
   "source": [
    "qm = analyzer.get_extension(\"quality_metrics\").get_data()\n",
    "print(f\"Available metrics: {qm.columns.values}\")"
   ]
  },
  {
   "cell_type": "markdown",
   "id": "00bf1d22-edb6-47ec-8c5e-87a56109dbd1",
   "metadata": {},
   "source": [
    "`qm` is a `pandas.DataFrame` with unit ID as indices. We can easily perform a query with a quality-metric \"recipe\", such as:"
   ]
  },
  {
   "cell_type": "code",
   "execution_count": null,
   "id": "356c53ab-b548-4b91-9754-e2398ee5ef87",
   "metadata": {},
   "outputs": [],
   "source": [
    "curation_query = \"rp_contamination < 0.2 and snr > 5 and presence_ratio > 0.8\"\n",
    "\n",
    "qm_filtered = qm.query(curation_query)\n",
    "print(f\"Number of units after curation: {len(qm_filtered)} / {len(qm)}\")"
   ]
  },
  {
   "cell_type": "markdown",
   "id": "083f1dc9-d40e-4868-bc1d-f2c39c0e4ec3",
   "metadata": {},
   "source": [
    "Let's see how they look! The `SortingAnalyzer` has a convenient function to select units and propagate all extensions:"
   ]
  },
  {
   "cell_type": "code",
   "execution_count": null,
   "id": "e4ad62ad-d181-4ad7-9d11-a0c26c5fa45f",
   "metadata": {},
   "outputs": [],
   "source": [
    "units_to_keep = list(qm_filtered.index)\n",
    "analyzer_qm_filt = analyzer.select_units(units_to_keep)"
   ]
  },
  {
   "cell_type": "code",
   "execution_count": null,
   "id": "6457bb19-1656-49cb-a47a-6ae7f98f1fc0",
   "metadata": {},
   "outputs": [],
   "source": [
    "# we can also save the unit outputs \n",
    "passing_qc = np.zeros(len(analyzer.unit_ids), dtype=bool)\n",
    "passing_qc[analyzer.sorting.ids_to_indices(units_to_keep)] = True\n",
    "analyzer.set_sorting_property(\"passing_qc\", passing_qc)"
   ]
  },
  {
   "cell_type": "code",
   "execution_count": null,
   "id": "3950737a-38e1-4b0f-87c3-5b8ccbfcd248",
   "metadata": {},
   "outputs": [],
   "source": [
    "_ = sw.plot_unit_templates(analyzer_qm_filt, backend=\"ipywidgets\")"
   ]
  },
  {
   "cell_type": "markdown",
   "id": "18d40135-cbc5-41fc-8a9f-18dd605f6f05",
   "metadata": {},
   "source": [
    "**NICE!!** Most of noisy units are gone, but we are also left with less than 70 units... maybe our curation was too strict?"
   ]
  },
  {
   "cell_type": "markdown",
   "id": "5aed444d-96de-41e8-a997-3247ab53ffd1",
   "metadata": {},
   "source": [
    "**Exercise**: \n",
    "\n",
    "Try to remove or modify the \"snr\" threshold. Is SNR helpful to clean up the output?"
   ]
  },
  {
   "cell_type": "code",
   "execution_count": null,
   "id": "334490f1-a4d1-4858-8b8d-aa4a95de7111",
   "metadata": {},
   "outputs": [],
   "source": [
    "\n",
    "\n",
    "\n",
    "\n",
    "\n",
    "\n"
   ]
  },
  {
   "cell_type": "markdown",
   "id": "3f0dd9e0-9ad2-4f8e-8690-08a05992c9de",
   "metadata": {},
   "source": [
    "### Automatic labeling\n",
    "\n",
    "In the `curation` module we also provide some model-based automatic labeling of units. Specifically, we use pre-trained classifiers from hand-curated data from the [UnitRefine](https://www.biorxiv.org/content/10.1101/2025.03.30.645770v1) project. UniteRefine models use quality and template metrics to classify units as being `noise` or `neural` and `SUA` (single-unit activity) or `MUA` (multi-unit activity).\n",
    "\n",
    "All available models are publicly available on the [SpikeInterface HuggingFace Organization](https://huggingface.co/SpikeInterface).\n",
    "\n",
    "Let's see how to use them!"
   ]
  },
  {
   "cell_type": "code",
   "execution_count": null,
   "id": "e2b28bbe-fcc8-48e1-80c1-c800bb3621d1",
   "metadata": {},
   "outputs": [],
   "source": [
    "# sc.auto_label_units?"
   ]
  },
  {
   "cell_type": "code",
   "execution_count": null,
   "id": "875078f9-0558-4b79-b90c-6434fbc688ff",
   "metadata": {},
   "outputs": [],
   "source": [
    "noise_neuron_labels = sc.auto_label_units(\n",
    "    sorting_analyzer=analyzer,\n",
    "    repo_id=\"SpikeInterface/UnitRefine_noise_neural_classifier_lightweight\",\n",
    "    trust_model=True,\n",
    ")\n",
    "\n",
    "noise_units = noise_neuron_labels[noise_neuron_labels['prediction'] == 'noise']\n",
    "analyzer_neural = analyzer.remove_units(list(noise_units.index))\n",
    "analyzer_noise = analyzer.select_units(list(noise_units.index))"
   ]
  },
  {
   "cell_type": "code",
   "execution_count": null,
   "id": "e27a5067-ad82-4cfb-88bb-9158f45a64d9",
   "metadata": {},
   "outputs": [],
   "source": [
    "# Apply the sua/mua model\n",
    "sua_mua_labels = sc.auto_label_units(\n",
    "    sorting_analyzer=analyzer_neural,\n",
    "    repo_id=\"SpikeInterface/UnitRefine_sua_mua_classifier_lightweight\",\n",
    "    trust_model=True,\n",
    ")\n",
    "\n",
    "unit_refine_labels = pd.concat([sua_mua_labels, noise_units]).sort_index()\n",
    "sua_units = sua_mua_labels[sua_mua_labels['prediction'] == 'sua']\n",
    "analyzer_sua = analyzer_neural.select_units(list(sua_units.index))\n",
    "mua_units = sua_mua_labels[sua_mua_labels['prediction'] == 'mua']\n",
    "analyzer_mua = analyzer_neural.select_units(list(mua_units.index))"
   ]
  },
  {
   "cell_type": "code",
   "execution_count": null,
   "id": "69bcfa6f-a373-476a-a9ba-93d66e90a07c",
   "metadata": {},
   "outputs": [],
   "source": [
    "# Let's see what we got\n",
    "print(f\"Noise units: {len(noise_units)} / {num_uncurated_units}\")\n",
    "print(f\"MUA units: {len(mua_units)} / {num_uncurated_units}\")\n",
    "print(f\"SUA units: {len(sua_units)} / {num_uncurated_units}\")"
   ]
  },
  {
   "cell_type": "code",
   "execution_count": null,
   "id": "b9c61697-d88f-474e-95a1-408d521f5b05",
   "metadata": {},
   "outputs": [],
   "source": [
    "# it is also convenient to store the label and the probability as properties of the sorting analyzer\n",
    "analyzer.set_sorting_property(\"unitrefine_prediction\", unit_refine_labels[\"prediction\"])\n",
    "analyzer.set_sorting_property(\"unitrefine_probability\", unit_refine_labels[\"probability\"])"
   ]
  },
  {
   "cell_type": "code",
   "execution_count": null,
   "id": "de6a6378-7f54-48cf-9ffd-cf750cfd328b",
   "metadata": {},
   "outputs": [],
   "source": [
    "_ = sw.plot_unit_templates(analyzer_noise, backend=\"ipywidgets\")"
   ]
  },
  {
   "cell_type": "code",
   "execution_count": null,
   "id": "e2e7b77b-95f0-46ae-ad46-245499853820",
   "metadata": {},
   "outputs": [],
   "source": [
    "_ = sw.plot_unit_templates(analyzer_mua, backend=\"ipywidgets\")"
   ]
  },
  {
   "cell_type": "code",
   "execution_count": null,
   "id": "1d2b3cda-dbb0-4669-929e-9fcbf6786bfa",
   "metadata": {},
   "outputs": [],
   "source": [
    "_ = sw.plot_unit_templates(analyzer_sua, backend=\"ipywidgets\")"
   ]
  },
  {
   "cell_type": "code",
   "execution_count": null,
   "id": "515ce27a-8a77-4bb7-8b05-39cee3261db1",
   "metadata": {},
   "outputs": [],
   "source": [
    "analyzer_to_process = analyzer_neural"
   ]
  },
  {
   "cell_type": "markdown",
   "id": "4d2dd41c-0e28-4733-a197-c8ea42042929",
   "metadata": {},
   "source": [
    "### Auto-merging\n",
    "\n",
    "Both quality metric-based and model-based curation provide labels for individual units. A common spike sorting mistake, however, is to *oversplit* units, i.e., multiple sorted units are actually from the same underlying neuron.\n",
    "\n",
    "These errors are usually manually fixed with curation, but the curation module also provides some automated strategies to find potential merges. These strategies have different flavors, but usually use the similarity across templates and auto/cross correlogram shapes to make a merge decision.\n",
    "\n",
    "See [compute_merge_unit_groups](https://spikeinterface.readthedocs.io/en/latest/api.html#spikeinterface.curation.compute_merge_unit_groups) function for documentation."
   ]
  },
  {
   "cell_type": "code",
   "execution_count": null,
   "id": "98223d84-59a6-470f-89f8-284c85f962e2",
   "metadata": {},
   "outputs": [],
   "source": [
    "# sc.compute_merge_unit_groups?"
   ]
  },
  {
   "cell_type": "code",
   "execution_count": null,
   "id": "76a34c2b-81e0-4ea8-b169-fe80bde56978",
   "metadata": {},
   "outputs": [],
   "source": [
    "potential_merges = sc.compute_merge_unit_groups(\n",
    "    analyzer_neural,\n",
    "    preset=\"similarity_correlograms\",\n",
    "    steps_params={\"template_similarity\": {\"template_diff_thresh\": 0.5}}\n",
    ")"
   ]
  },
  {
   "cell_type": "code",
   "execution_count": null,
   "id": "125a1fd6-34a0-4f25-aaa6-53865f4ea08d",
   "metadata": {},
   "outputs": [],
   "source": [
    "print(potential_merges)"
   ]
  },
  {
   "cell_type": "code",
   "execution_count": null,
   "id": "a61963d9-fd6f-4b22-a7e2-86a1cf772c7a",
   "metadata": {},
   "outputs": [],
   "source": [
    "sw.plot_potential_merges(analyzer_neural, potential_merges=potential_merges, backend=\"ipywidgets\")"
   ]
  },
  {
   "cell_type": "markdown",
   "id": "43c7e390-b709-49f9-a5ee-b49a9fe82280",
   "metadata": {},
   "source": [
    "### Curation format\n",
    "\n",
    "We have seen that we can perform several curation actions: labeling units, removing units (usually noisy ones), and merge oversplits.\n",
    "\n",
    "However, we haven't seen how represent and apply curation steps.\n",
    "The `curation` module, for this purpose, defines a *curation format*, which is a standardized representation of the curation actions.\n",
    "\n",
    "In this section we'll see how to formalize a curation, apply to an existing analyzer, and save it to a file that can be used by the [SpikeInterface-GUI](https://github.com/SpikeInterface/spikeinterface-gui), a powerful GUI for visualization and further curation refinement."
   ]
  },
  {
   "cell_type": "code",
   "execution_count": null,
   "id": "ad511874-4ef6-4f1a-a002-dc86aa401a8c",
   "metadata": {},
   "outputs": [],
   "source": [
    "# we will use unitrefine labels as pre-computed \"quality\"\n",
    "unitrefine_labels = analyzer.get_sorting_property(\"unitrefine_prediction\")\n",
    "unitrefine_labels[unitrefine_labels == \"sua\"] = \"good\"\n",
    "unitrefine_labels[unitrefine_labels == \"mua\"] = \"MUA\"\n",
    "\n",
    "label_definitions = {\n",
    "    \"quality\": dict(name=\"quality\", label_options=[\"good\", \"MUA\", \"noise\"], exclusive=True),\n",
    "}\n",
    "manual_labels = [\n",
    "    {\"unit_id\": unit_id, \"labels\": {\"quality\": [unitrefine_labels[unit_index]]}}\n",
    "    for unit_index, unit_id in enumerate(analyzer.unit_ids)\n",
    "]"
   ]
  },
  {
   "cell_type": "code",
   "execution_count": null,
   "id": "80655a84-59fc-4404-b5bf-1fd189c1d04f",
   "metadata": {},
   "outputs": [],
   "source": [
    "curation_dict = dict(\n",
    "    format_version=\"2\",\n",
    "    unit_ids=analyzer.unit_ids,\n",
    "    label_definitions=label_definitions, \n",
    "    merges=[\n",
    "        dict(unit_ids=p)\n",
    "        for p in potential_merges\n",
    "    ],\n",
    "    removed=analyzer_noise.unit_ids,\n",
    "    manual_labels=manual_labels\n",
    ")"
   ]
  },
  {
   "cell_type": "markdown",
   "id": "0e6952ea-1032-467c-8f3f-b390931a830c",
   "metadata": {},
   "source": [
    "Now that we have a curation with all steps (remove, merge, label) we can apply it in one go!"
   ]
  },
  {
   "cell_type": "code",
   "execution_count": null,
   "id": "da83de82-ceba-4376-9e00-196c3632ab75",
   "metadata": {},
   "outputs": [],
   "source": [
    "from spikeinterface.curation import validate_curation_dict"
   ]
  },
  {
   "cell_type": "code",
   "execution_count": null,
   "id": "fcf9611b-4aad-453c-8998-684da05cc737",
   "metadata": {},
   "outputs": [],
   "source": [
    "validate_curation_dict(curation_dict)"
   ]
  },
  {
   "cell_type": "code",
   "execution_count": null,
   "id": "39ea296c-842f-49b0-9b54-ae5dffe4d6ed",
   "metadata": {},
   "outputs": [],
   "source": [
    "# we can use the CurationModel for more secure serialization\n",
    "from spikeinterface.curation.curation_model import CurationModel\n",
    "\n",
    "curation = CurationModel(**curation_dict)\n",
    "curation_file = Path(\"curation.json\")\n",
    "_ = curation_file.write_text(curation.model_dump_json(indent=4))"
   ]
  },
  {
   "cell_type": "code",
   "execution_count": null,
   "id": "3f9a5349-35e5-4a4b-a3f5-bca4ffedce66",
   "metadata": {},
   "outputs": [],
   "source": [
    "analyzer_curated = sc.apply_curation(analyzer, curation_dict, sparsity_overlap=0.5)\n",
    "analyzer_curated"
   ]
  },
  {
   "cell_type": "markdown",
   "id": "ec14cbe7-38b9-4e97-a7d3-94e2b477bc77",
   "metadata": {},
   "source": [
    "### SpikeInterface-GUI (teaser)"
   ]
  },
  {
   "cell_type": "code",
   "execution_count": null,
   "id": "c112a15f-12a0-4ea8-8c52-344b1f397cb8",
   "metadata": {},
   "outputs": [],
   "source": [
    "from spikeinterface_gui import run_mainwindow"
   ]
  },
  {
   "cell_type": "code",
   "execution_count": null,
   "id": "27ac28ee",
   "metadata": {},
   "outputs": [],
   "source": [
    "run_mainwindow(\n",
    "    analyzer,\n",
    "    displayed_unit_properties=[\"passing_qc\", \"unitrefine_prediction\", \"unitrefine_probability\"],\n",
    "    curation=True,\n",
    "    curation_dict=curation_dict,\n",
    "    mode=\"desktop\"\n",
    ")"
   ]
  }
 ],
 "metadata": {
  "kernelspec": {
   "display_name": "Python 3 (ipykernel)",
   "language": "python",
   "name": "python3"
  },
  "language_info": {
   "codemirror_mode": {
    "name": "ipython",
    "version": 3
   },
   "file_extension": ".py",
   "mimetype": "text/x-python",
   "name": "python",
   "nbconvert_exporter": "python",
   "pygments_lexer": "ipython3",
   "version": "3.13.2"
  }
 },
 "nbformat": 4,
 "nbformat_minor": 5
}
