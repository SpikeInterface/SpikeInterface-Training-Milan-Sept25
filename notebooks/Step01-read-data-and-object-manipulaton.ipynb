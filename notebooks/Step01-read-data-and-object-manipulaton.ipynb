{
 "cells": [
  {
   "cell_type": "markdown",
   "id": "59ba3f04-6514-4a11-8ae5-b774daa1af8c",
   "metadata": {},
   "source": [
    "# Recordings"
   ]
  },
  {
   "cell_type": "markdown",
   "id": "b5205a35-569b-4491-b890-4b792b8e8d0f",
   "metadata": {},
   "source": [
    "Let's read in a recording. SpikeInterface supports many formats, see a full list here: https://spikeinterface.readthedocs.io/en/stable/modules/extractors.html#raw-data-formats\n",
    "Change the `path_to_recording` path to wherever your recording is."
   ]
  },
  {
   "cell_type": "code",
   "execution_count": null,
   "id": "f6fd7c20",
   "metadata": {},
   "outputs": [],
   "source": [
    "import spikeinterface.full as si\n",
    "from pathlib import Path\n",
    "\n",
    "base_folder = Path(\"/home/nolanlab/Work/Projects/Milan/\")\n",
    "recording_name = \"M25_D23_2024-11-11_13-11-10_OF1\"\n",
    "\n",
    "path_to_recording = base_folder / recording_name\n",
    "\n",
    "path_to_recording = \"/Users/christopherhalcrow/Work/Harry_Project/data/M25_D0_2024-11-01_15-20-35_1\"\n",
    "recording = si.read_openephys(path_to_recording)"
   ]
  },
  {
   "cell_type": "markdown",
   "id": "45c23556-840b-4b3a-9ead-1734327ff445",
   "metadata": {},
   "source": [
    "The recording is an object, and we can find out information about it like so"
   ]
  },
  {
   "cell_type": "code",
   "execution_count": null,
   "id": "0a8be346-21d7-4441-aa1c-2815315098c3",
   "metadata": {},
   "outputs": [],
   "source": [
    "recording"
   ]
  },
  {
   "cell_type": "markdown",
   "id": "2877ed36-8f38-468c-a944-66ffc8f907ac",
   "metadata": {},
   "source": [
    "You can also directly access a lot of this information from the recording object:"
   ]
  },
  {
   "cell_type": "code",
   "execution_count": null,
   "id": "6ec6f7ad-b910-43ac-bf95-dfcff321313e",
   "metadata": {},
   "outputs": [],
   "source": [
    "sampling_frequency = recording.sampling_frequency\n",
    "channel_locations = recording.get_channel_locations()\n",
    "channel_ids = recording.channel_ids"
   ]
  },
  {
   "cell_type": "markdown",
   "id": "8edea576-f87d-4401-b23a-0be66faeae00",
   "metadata": {},
   "source": [
    "Some information is saved as recording \"annotations\". Let's see which annotations are saved"
   ]
  },
  {
   "cell_type": "code",
   "execution_count": null,
   "id": "da50fa00-f93f-4097-8e67-f737cd9679b5",
   "metadata": {},
   "outputs": [],
   "source": [
    "recording.get_annotation_keys()"
   ]
  },
  {
   "cell_type": "code",
   "execution_count": null,
   "id": "6d1e2769-115d-49dd-87f0-a59d52040854",
   "metadata": {},
   "outputs": [],
   "source": [
    "recording.get_annotation('probes_info')"
   ]
  },
  {
   "cell_type": "markdown",
   "id": "c0dd7ff7-42dd-43cb-aa22-4f280f289582",
   "metadata": {},
   "source": [
    "We can also add our own annotations"
   ]
  },
  {
   "cell_type": "code",
   "execution_count": null,
   "id": "dfb151d1-535f-48d6-a0c8-4da112954eee",
   "metadata": {},
   "outputs": [],
   "source": [
    "recording.set_annotation('experimenter_name', 'Harry Clark')"
   ]
  },
  {
   "cell_type": "markdown",
   "id": "e7f05c0a-890b-4348-ae3b-8bf4992442a9",
   "metadata": {},
   "source": [
    "Most importantly, the recording contains information about the geometric layout of the probe. We can take a look using the `plot_probe_map` plotting function?"
   ]
  },
  {
   "cell_type": "code",
   "execution_count": null,
   "id": "e8d8aa91-e985-4246-a15f-b69b7ed3bcf0",
   "metadata": {},
   "outputs": [],
   "source": [
    "%matplotlib widget\n",
    "si.plot_probe_map(recording)"
   ]
  },
  {
   "cell_type": "markdown",
   "id": "0fa70b6a-9b94-4a03-ba7b-072d8bfce83a",
   "metadata": {},
   "source": [
    "And we can plot the raw traces. Note that not all data gets loaded (it's a 90GB file: it would crash my machine!): only the data in the `time_range` is loaded."
   ]
  },
  {
   "cell_type": "code",
   "execution_count": null,
   "id": "5967a00e",
   "metadata": {},
   "outputs": [],
   "source": [
    "si.plot_traces(\n",
    "    recording,\n",
    "    mode=\"line\",  # plot the traces as lines, rather than a heatmap\n",
    "    time_range = (100,101)\n",
    ")"
   ]
  },
  {
   "cell_type": "markdown",
   "id": "93f3b598-2d16-4fd7-8e2c-4fa014a15de9",
   "metadata": {},
   "source": [
    "Hmmm... that doesn't look helpful. We can _slice_ our recording to focus on a small bit of it; either in time or in channels."
   ]
  },
  {
   "cell_type": "code",
   "execution_count": null,
   "id": "01f85d01-503b-4f58-a501-3c097b57417d",
   "metadata": {},
   "outputs": [],
   "source": [
    "time_sliced_recording = recording.time_slice(start_time=200, end_time=250)\n",
    "channel_sliced_recording = time_sliced_recording.select_channels(channel_ids=['CH1', 'CH2'])\n",
    "# Note: you can also remove chanels using `recording.remove_channels(...)\n",
    "\n",
    "si.plot_traces(channel_sliced_recording)"
   ]
  },
  {
   "cell_type": "markdown",
   "id": "186122f4-01c0-4c37-9885-3e289318c621",
   "metadata": {},
   "source": [
    "**Exercise 1**: Select the 4 bottom-most channels (the four channels with the smallest y-channel-location) and plot their traces from time 500 to 502."
   ]
  },
  {
   "cell_type": "code",
   "execution_count": null,
   "id": "b8b911e1-0b9c-4314-84c6-a556a1b1c4b7",
   "metadata": {},
   "outputs": [],
   "source": [
    "\n",
    "\n",
    "\n",
    "\n",
    "\n",
    "\n",
    "\n"
   ]
  },
  {
   "cell_type": "markdown",
   "id": "259f701a-ffe3-4561-b784-06138596ae7a",
   "metadata": {},
   "source": [
    "**Exercise 2**: Print the `recording` channel_ids in order of their depth."
   ]
  },
  {
   "cell_type": "code",
   "execution_count": null,
   "id": "afb40154-c399-475e-8513-d01bee5296a9",
   "metadata": {},
   "outputs": [],
   "source": [
    "\n",
    "\n",
    "\n",
    "\n",
    "\n",
    "\n",
    "\n"
   ]
  },
  {
   "cell_type": "markdown",
   "id": "4f82b9e9-f75d-4153-b710-aec737e4b2de",
   "metadata": {},
   "source": [
    "# Generating your own Probe"
   ]
  },
  {
   "cell_type": "markdown",
   "id": "9af2a66d-d65f-4492-b053-30bdf6901c1e",
   "metadata": {},
   "source": [
    "OpenEphys NeuroPixels data is great: the probe is auto-generated when you load in the data.\n",
    "\n",
    "But that's not always the case.\n",
    "\n",
    "Suppose you have a custom probe with 4-shanks, with 8 channels on each shank. We can generate some artificial data to imitate this scenario"
   ]
  },
  {
   "cell_type": "code",
   "execution_count": null,
   "id": "4bb4d19e-00eb-4e10-b0db-71c631497c1f",
   "metadata": {},
   "outputs": [],
   "source": [
    "fake_recording = si.generate_recording(\n",
    "    num_channels = 4*8,\n",
    "    durations = [300],\n",
    "    set_probe=False,\n",
    ")\n",
    "\n",
    "print(fake_recording.has_probe())"
   ]
  },
  {
   "cell_type": "markdown",
   "id": "87282d37-52cf-44df-a970-73f7dae605f1",
   "metadata": {},
   "source": [
    "We can make a probe by creating a `Probe` object from `ProbeInterface`. At a minimum, this needs the locations of each channel. Read more in the ProbeInterface docs (https://probeinterface.readthedocs.io/en/stable/index.html)"
   ]
  },
  {
   "cell_type": "code",
   "execution_count": null,
   "id": "14719e2b-7585-4103-91b9-885fefb231f0",
   "metadata": {},
   "outputs": [],
   "source": [
    "import numpy as np\n",
    "\n",
    "positions_on_one_shank = np.array([\n",
    "    [0,0],\n",
    "    [20,0],\n",
    "    [0,20],\n",
    "    [20,20],\n",
    "    [0,40],\n",
    "    [20,40],\n",
    "    [0,60],\n",
    "    [20,60],\n",
    "])\n",
    "\n",
    "all_positions = np.concatenate([\n",
    "    positions_on_one_shank, \n",
    "    positions_on_one_shank+[100,0], \n",
    "    positions_on_one_shank+[200,0], \n",
    "    positions_on_one_shank+[300,0]\n",
    "])"
   ]
  },
  {
   "cell_type": "code",
   "execution_count": null,
   "id": "f957abb6-e88e-4235-9912-6833e39d2964",
   "metadata": {},
   "outputs": [],
   "source": [
    "from probeinterface import Probe\n",
    "probe = Probe(ndim=2, si_units='um')\n",
    "probe.set_contacts(positions=all_positions)\n",
    "\n",
    "# We need to \"wire\" the probe, to say which channel corresponds to which column in the raw traces file. \n",
    "probe.set_device_channel_indices(range(0,4*8))\n",
    "\n",
    "# And we'll make an auto-shape in the hope of making prettier plots\n",
    "probe.create_auto_shape()"
   ]
  },
  {
   "cell_type": "code",
   "execution_count": null,
   "id": "8547036e-2ded-46e8-816f-6eb6099aaf3f",
   "metadata": {},
   "outputs": [],
   "source": [
    "recording_with_probe = fake_recording.set_probe(probe)"
   ]
  },
  {
   "cell_type": "code",
   "execution_count": null,
   "id": "2402629a-7fab-4abd-bdd4-a6557d6959d5",
   "metadata": {},
   "outputs": [],
   "source": [
    "recording_with_probe"
   ]
  },
  {
   "cell_type": "code",
   "execution_count": null,
   "id": "bd489a5f-85fe-4621-9bf0-fffd2c885947",
   "metadata": {},
   "outputs": [],
   "source": [
    "si.plot_probe_map(recording_with_probe)"
   ]
  },
  {
   "cell_type": "markdown",
   "id": "1894d925-641a-4480-b8f4-cddbc91dff4a",
   "metadata": {},
   "source": [
    "These four shanks are far apart from each other, and we might want to deal with them independently. We can set a \"group\" property to each electrode:"
   ]
  },
  {
   "cell_type": "code",
   "execution_count": null,
   "id": "37f860a3-4127-411b-b78e-5c159b1d7e66",
   "metadata": {},
   "outputs": [],
   "source": [
    "recording_with_probe.set_channel_groups([0,0,0,0,0,0,0,0,1,1,1,1,1,1,1,1,2,2,2,2,2,2,2,2,3,3,3,3,3,3,3,3])"
   ]
  },
  {
   "cell_type": "markdown",
   "id": "a27f883c-e51f-48b0-99a2-115db359bd9e",
   "metadata": {},
   "source": [
    "We can then split the recording using the `split_by` method:"
   ]
  },
  {
   "cell_type": "code",
   "execution_count": null,
   "id": "2b9a4424-40ad-4cf7-a826-e873d1988690",
   "metadata": {},
   "outputs": [],
   "source": [
    "grouped_recordings = recording_with_probe.split_by('group')\n",
    "grouped_recordings"
   ]
  },
  {
   "cell_type": "markdown",
   "id": "173586bc-3fc4-432a-97e4-69c66e0f4e92",
   "metadata": {},
   "source": [
    "As we'll see later, many of `SpikeInterface`'s functions work exactly the same way with a recording, or a group of recordings (like the one above)"
   ]
  },
  {
   "cell_type": "markdown",
   "id": "6183d6ae-865a-434b-9bb2-ead5bc812c90",
   "metadata": {},
   "source": [
    "`ProbeInterface` also has some helper probe creation functions such as `generate_multi_shank` and `generate_linear`. Read more in the docs: https://probeinterface.readthedocs.io/en/stable/index.html\n",
    "\n",
    "There is also a library of probes you can load in (https://probeinterface.readthedocs.io/en/stable/examples/ex_10_get_probe_from_library.html), mostly from Cambridge Neurotech and NeuroNexus."
   ]
  },
  {
   "cell_type": "markdown",
   "id": "2a567a45-e288-4538-994f-a25e65af88e9",
   "metadata": {},
   "source": [
    "**EXERCISE**: Load in the tetrode data (called `1544_2023-04-21_09-55-34_of`). This is a 4-tetrode recording. Make a probe which represents four tetrodes (4 groups, each with 4 channels) and attach it to the recording. The group of each of the 16 channels are (0,0,0,0,1,1,1,1,2,2,2,2,3,3,3,3)."
   ]
  },
  {
   "cell_type": "code",
   "execution_count": null,
   "id": "4fe6344d-1e98-4c64-b872-a11b6cbbf0cc",
   "metadata": {},
   "outputs": [],
   "source": [
    "\n",
    "\n",
    "\n",
    "\n",
    "\n",
    "\n",
    "\n",
    "\n"
   ]
  },
  {
   "cell_type": "markdown",
   "id": "be5382ef-7d4e-44b3-9767-23af3a1bfb5a",
   "metadata": {},
   "source": [
    "`SpikeInterface` also contains some pretty advanced generation tools. We can make fake data that imitates a multi-shank recording like so"
   ]
  },
  {
   "cell_type": "code",
   "execution_count": null,
   "id": "908916f8-b5e1-4ae1-92ab-e1bb1f0e91f5",
   "metadata": {},
   "outputs": [],
   "source": [
    "from probeinterface import generate_multi_shank\n",
    "two_shank_probe = generate_multi_shank(num_shank=2, num_contact_per_column=8, num_columns=2)\n",
    "two_shank_probe.set_device_channel_indices(range(32))\n",
    "si_generated_recording, _ = si.generate_ground_truth_recording(\n",
    "    durations=[300],\n",
    "    num_channels=32,\n",
    "    probe=two_shank_probe\n",
    ")\n",
    "si.plot_probe_map(si_generated_recording)"
   ]
  },
  {
   "cell_type": "markdown",
   "id": "fb813b20-324c-4186-8378-56171fa04557",
   "metadata": {},
   "source": [
    "# Saving a representation of a Recording"
   ]
  },
  {
   "cell_type": "markdown",
   "id": "1598d3e5-da37-4d86-9548-34893e162eaa",
   "metadata": {},
   "source": [
    "You'll hear more about saving recordings later. For now, we'll save a `.json` file that represents this generated probe."
   ]
  },
  {
   "cell_type": "code",
   "execution_count": null,
   "id": "86d0ed6d-67ba-4989-bb85-c992fbb93250",
   "metadata": {},
   "outputs": [],
   "source": [
    "path_to_json = base_folder / 'recording.json'\n",
    "recording.dump_to_json(path_to_json)"
   ]
  },
  {
   "cell_type": "markdown",
   "id": "f45fdca8-f44a-4719-925f-6a923709e580",
   "metadata": {},
   "source": [
    "This `json` file is a lightweight representation of the recording, but it just links to the raw recording. Hence you can open it and find out all about the probe, any preprocessing that's been done, and more, without taking up lots of space on your hard drive. Go take a look at the file."
   ]
  }
 ],
 "metadata": {
  "kernelspec": {
   "display_name": "Python 3 (ipykernel)",
   "language": "python",
   "name": "python3"
  },
  "language_info": {
   "codemirror_mode": {
    "name": "ipython",
    "version": 3
   },
   "file_extension": ".py",
   "mimetype": "text/x-python",
   "name": "python",
   "nbconvert_exporter": "python",
   "pygments_lexer": "ipython3",
   "version": "3.13.2"
  }
 },
 "nbformat": 4,
 "nbformat_minor": 5
}
