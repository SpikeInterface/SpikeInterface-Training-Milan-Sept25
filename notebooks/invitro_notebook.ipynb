{
 "cells": [
  {
   "cell_type": "markdown",
   "id": "72415ac2-8e4d-4bc6-a6ae-cd170b9e9f46",
   "metadata": {},
   "source": [
    "### In-vitro data"
   ]
  },
  {
   "cell_type": "code",
   "execution_count": null,
   "id": "6e6fec2f-fe4d-43e7-ab1c-2ad89cc5dc6e",
   "metadata": {},
   "outputs": [],
   "source": [
    "from pathlib import Path\n",
    "import spikeinterface.full as si\n",
    "\n",
    "%matplotlib widget"
   ]
  },
  {
   "cell_type": "code",
   "execution_count": null,
   "id": "68080d49-d3e4-4ea0-84ad-23842d5e3aff",
   "metadata": {},
   "outputs": [],
   "source": [
    "base_data_folder = Path(\"/project/dlb/Dataset/SpikeImterface\")\n",
    "working_folder = Path(\"/localscratch\")\n",
    "recording_stem = \"human_ngn2_100K_c_55D\"\n",
    "recording_name = f\"{recording_stem}.brw\"\n",
    "\n",
    "results_folder = working_folder / recording_stem"
   ]
  },
  {
   "cell_type": "code",
   "execution_count": null,
   "id": "84f792e4-eb90-466c-a925-66d02ebdad0c",
   "metadata": {},
   "outputs": [],
   "source": [
    "recording = si.read_biocam(base_data_folder / recording_name)"
   ]
  },
  {
   "cell_type": "code",
   "execution_count": null,
   "id": "2acd11e8-31e1-4fe7-97ec-48ed45fe4ee0",
   "metadata": {},
   "outputs": [],
   "source": [
    "recording"
   ]
  },
  {
   "cell_type": "code",
   "execution_count": null,
   "id": "b39fb71f-d246-44a9-8b76-8b40796f95f1",
   "metadata": {},
   "outputs": [],
   "source": [
    "recording = si.unsigned_to_signed(recording, bit_depth=12)"
   ]
  },
  {
   "cell_type": "code",
   "execution_count": null,
   "id": "1ac93091-be66-401b-9bd8-2ebe12c39c35",
   "metadata": {},
   "outputs": [],
   "source": [
    "recording"
   ]
  },
  {
   "cell_type": "code",
   "execution_count": null,
   "id": "09d23ffc-75fe-4067-87b2-0cea6b0ef00a",
   "metadata": {},
   "outputs": [],
   "source": [
    "recording_processed = si.bandpass_filter(recording, freq_max=5000)\n",
    "recording_processed = si.common_reference(recording_processed)"
   ]
  },
  {
   "cell_type": "code",
   "execution_count": null,
   "id": "c9bcfe26-b7e7-4729-99a2-a076530988e9",
   "metadata": {},
   "outputs": [],
   "source": [
    "from spikeinterface.sortingcomponents.peak_detection import detect_peaks\n",
    "from spikeinterface.sortingcomponents.peak_localization import localize_peaks"
   ]
  },
  {
   "cell_type": "code",
   "execution_count": null,
   "id": "8b9ac2b1-df1c-4e05-bf92-c60c4c8db925",
   "metadata": {},
   "outputs": [],
   "source": [
    "si.set_global_job_kwargs(n_jobs=0.8, chunk_duration=\"0.5s\")"
   ]
  },
  {
   "cell_type": "code",
   "execution_count": null,
   "id": "ca6bb71a-392c-4f54-b38d-e1b6d1f734f7",
   "metadata": {},
   "outputs": [],
   "source": [
    "peaks = detect_peaks(recording_processed)"
   ]
  },
  {
   "cell_type": "code",
   "execution_count": null,
   "id": "ede0b632-a98b-428b-ba5c-1013746935bc",
   "metadata": {},
   "outputs": [],
   "source": [
    "si.plot_peak_activity(recording, peaks, color_range=[0, 10])"
   ]
  },
  {
   "cell_type": "code",
   "execution_count": null,
   "id": "c1aa73a6-d758-4a02-aed1-91faf5f06e56",
   "metadata": {},
   "outputs": [],
   "source": [
    "sorting_HS = si.run_sorter(sorter_name=\"herdingspikes\", recording=recording_processed, \n",
    "                           folder=working_folder / recording_name / \"sorter_HS\",\n",
    "                           verbose=True, remove_existing_folder=True)"
   ]
  },
  {
   "cell_type": "code",
   "execution_count": null,
   "id": "846e17c4-c08a-46d3-9571-e7dc1400b079",
   "metadata": {},
   "outputs": [],
   "source": [
    "sorting_HS"
   ]
  },
  {
   "cell_type": "code",
   "execution_count": null,
   "id": "32511274-4238-488d-b904-afa981c2aaf8",
   "metadata": {},
   "outputs": [],
   "source": [
    "analyzer = si.create_sorting_analyzer(sorting_HS, recording_processed)\n",
    "extension_list = [\"random_spikes\", \"templates\", \"unit_locations\", \"correlograms\", \"template_similarity\", \"spike_amplitudes\"]\n",
    "analyzer.compute(extension_list)"
   ]
  },
  {
   "cell_type": "code",
   "execution_count": null,
   "id": "dec3ffe6-89fe-4eaf-a3c1-02b672709282",
   "metadata": {},
   "outputs": [],
   "source": [
    "si.plot_unit_templates(analyzer, backend=\"ipywidgets\")"
   ]
  },
  {
   "cell_type": "code",
   "execution_count": null,
   "id": "7da32d25-dc2b-417a-b567-67b043536e3c",
   "metadata": {},
   "outputs": [],
   "source": [
    "si.plot_rasters(analyzer)"
   ]
  },
  {
   "cell_type": "code",
   "execution_count": null,
   "id": "026f469a-405f-4e8a-a146-b527e32fcca3",
   "metadata": {},
   "outputs": [],
   "source": [
    "potential_merges = si.compute_merge_unit_groups(analyzer, preset=\"x_contaminations\")"
   ]
  },
  {
   "cell_type": "code",
   "execution_count": null,
   "id": "9a8447e5-8a39-47da-aa45-1be02f746282",
   "metadata": {},
   "outputs": [],
   "source": [
    "print(len(potential_merges))"
   ]
  },
  {
   "cell_type": "code",
   "execution_count": null,
   "id": "8a38ae7f-7793-4cb8-9eb6-b9240012154a",
   "metadata": {},
   "outputs": [],
   "source": [
    "si.plot_potential_merges(analyzer, potential_merges, backend=\"ipywidgets\")"
   ]
  }
 ],
 "metadata": {
  "kernelspec": {
   "display_name": "Python 3 (ipykernel)",
   "language": "python",
   "name": "python3"
  },
  "language_info": {
   "codemirror_mode": {
    "name": "ipython",
    "version": 3
   },
   "file_extension": ".py",
   "mimetype": "text/x-python",
   "name": "python",
   "nbconvert_exporter": "python",
   "pygments_lexer": "ipython3",
   "version": "3.13.2"
  }
 },
 "nbformat": 4,
 "nbformat_minor": 5
}
