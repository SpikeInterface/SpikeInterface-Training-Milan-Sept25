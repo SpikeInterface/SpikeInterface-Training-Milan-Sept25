{
 "cells": [
  {
   "cell_type": "markdown",
   "id": "d93b4e99",
   "metadata": {},
   "source": [
    "# A simple tetrode pipeline\n",
    "\n",
    "Here, we make a simple sorting pipeline for tetrode data, based on data collected by Bri Vandrey in the Nolan Lab (University of Edinburgh). First load in the packages we need and the recording"
   ]
  },
  {
   "cell_type": "code",
   "execution_count": null,
   "id": "32402957",
   "metadata": {},
   "outputs": [],
   "source": [
    "from pathlib import Path\n",
    "\n",
    "import spikeinterface.full as si\n",
    "import probeinterface as pi\n",
    "\n",
    "base_data_folder = Path(\"/project/dlb/Dataset/SpikeInterface\")\n",
    "recording_name = \"1544_2023-04-21_09-55-34_of\"\n",
    "path_to_recording = base_data_folder / recording_name\n",
    "\n",
    "recording = si.read_openephys(path_to_recording, stream_id=\"CH\")"
   ]
  },
  {
   "cell_type": "markdown",
   "id": "3ae6bcf9",
   "metadata": {},
   "source": [
    "The data comes from four tetrodes. Luckily, `ProbeInterface` has a `generate_tetrode` function. We can use that to make four tetrodes, spaced out a little. We'll combine them all into a `ProbeGroup`"
   ]
  },
  {
   "cell_type": "code",
   "execution_count": null,
   "id": "93123d67",
   "metadata": {},
   "outputs": [],
   "source": [
    "tetrode_group = pi.ProbeGroup()\n",
    "for a in range(4):\n",
    "    one_tetrode = pi.generate_tetrode()\n",
    "    one_tetrode.move([a*250,0])\n",
    "    tetrode_group.add_probe(one_tetrode)\n",
    "\n",
    "# Wire it up\n",
    "tetrode_group.set_global_device_channel_indices(range(16))\n",
    "\n",
    "# And set the probe\n",
    "recording = recording.set_probegroup(tetrode_group)"
   ]
  },
  {
   "cell_type": "markdown",
   "id": "3affd610",
   "metadata": {},
   "source": [
    "To make sure we've done the probe properly, let's plot it"
   ]
  },
  {
   "cell_type": "code",
   "execution_count": null,
   "id": "5f8169ae",
   "metadata": {},
   "outputs": [],
   "source": [
    "si.plot_probe_map(recording)"
   ]
  },
  {
   "cell_type": "markdown",
   "id": "aa78cfb4",
   "metadata": {},
   "source": [
    "Each tetrode is quite far apart, and should (usually) be treated independently. Hence we'll split the recording into groups. Since we attached the Probe as a `ProbeGroup`, it already knows about the groups."
   ]
  },
  {
   "cell_type": "code",
   "execution_count": null,
   "id": "4761add3",
   "metadata": {},
   "outputs": [],
   "source": [
    "grouped_recording = recording.split_by('group')"
   ]
  },
  {
   "cell_type": "markdown",
   "id": "aa08ecba",
   "metadata": {},
   "source": [
    "\n",
    "We'll now apply some light preprocessing (note: tetrodes don't do well with common referencing. Read more:  https://spikeinterface.readthedocs.io/en/stable/tutorials/forhowto/plot_1_working_with_tetrodes.html) and check if there are any bad channels"
   ]
  },
  {
   "cell_type": "code",
   "execution_count": null,
   "id": "b58f838e",
   "metadata": {},
   "outputs": [],
   "source": [
    "preprocessed_recording = si.bandpass_filter(grouped_recording)\n",
    "\n",
    "recording_good_channels = si.detect_and_remove_bad_channels(preprocessed_recording,)\n",
    "\n",
    "print(recording_good_channels)"
   ]
  },
  {
   "cell_type": "markdown",
   "id": "18188018",
   "metadata": {},
   "source": [
    "Nice. Group 2 only has 3 channels, so a bad channel from that group has been removed."
   ]
  },
  {
   "cell_type": "markdown",
   "id": "07beac2d",
   "metadata": {},
   "source": [
    "Motion detection algorithms are for high density probes (not tetrodes). Luckily, tetrodes are usually pretty stable. So we can move on to sorting. The most commonly used algorithm for tetrodes is MountainSort. Let's try the latest version of that. Reading the GitHub page (https://github.com/flatironinstitute/mountainsort5) it sounds like if we don't have drift we should use sorting scheme 2."
   ]
  },
  {
   "cell_type": "code",
   "execution_count": null,
   "id": "cff0de2e",
   "metadata": {},
   "outputs": [],
   "source": [
    "sorting = si.run_sorter(sorter_name=\"mountainsort5\", recording=recording_good_channels, scheme='2')"
   ]
  },
  {
   "cell_type": "markdown",
   "id": "eae530ed",
   "metadata": {},
   "source": [
    "Since the input recording was a dictionary of the four grouped recording, the sorting output is also a dict of four grouped sortings:"
   ]
  },
  {
   "cell_type": "code",
   "execution_count": null,
   "id": "9a4ffdbc",
   "metadata": {},
   "outputs": [],
   "source": [
    "sorting"
   ]
  },
  {
   "cell_type": "markdown",
   "id": "b31d40c6",
   "metadata": {},
   "source": [
    "Let's now make a sorting analyzer and compute some extensions. PCA metrics are particularly useful for tetrode data. Since the recording is quite small, I'll make an analyzer in memory and then save it later."
   ]
  },
  {
   "cell_type": "code",
   "execution_count": null,
   "id": "dae0f5bb",
   "metadata": {},
   "outputs": [],
   "source": [
    "# Note: make sure you use the preprocessed recording here!\n",
    "analyzer = si.create_sorting_analyzer(sorting, recording_good_channels, format=\"memory\")\n",
    "analyzer.compute({\n",
    "    \"templates\": {},\n",
    "    \"waveforms\": {},\n",
    "    \"random_spikes\": {},\n",
    "    \"correlograms\": {},\n",
    "    \"noise_levels\": {'method': 'std'},\n",
    "    \"spike_amplitudes\": {},\n",
    "    \"spike_locations\": {},\n",
    "    \"template_metrics\": {},\n",
    "    \"unit_locations\": {},\n",
    "    \"template_similarity\": {'method': 'l1'},\n",
    "    \"quality_metrics\": {},\n",
    "    \"principal_components\": {}\n",
    "})"
   ]
  },
  {
   "cell_type": "markdown",
   "id": "5b1efa54",
   "metadata": {},
   "source": [
    "Now that the computations are done, I'll save the analyzer"
   ]
  },
  {
   "cell_type": "code",
   "execution_count": null,
   "id": "0d2d5151",
   "metadata": {},
   "outputs": [],
   "source": [
    "output_folder = Path(\"/Users/christopherhalcrow/Work/my_projects/milan\")\n",
    "analyzer.save_as(format=\"binary_folder\", folder = output_folder / \"tetrode_analyzer\")"
   ]
  },
  {
   "cell_type": "markdown",
   "id": "cec52c0d",
   "metadata": {},
   "source": [
    "Finally, let's export a report to see what our units look like"
   ]
  },
  {
   "cell_type": "code",
   "execution_count": null,
   "id": "16611420",
   "metadata": {},
   "outputs": [],
   "source": [
    "si.export_report(analyzer, output_folder = output_folder / \"tetrode_report\")"
   ]
  },
  {
   "cell_type": "markdown",
   "id": "beb631b0",
   "metadata": {},
   "source": [
    "Go take a look at the report to see your units. Or use some of the `SpikeInterface` widgets to take a look within the notebook"
   ]
  }
 ],
 "metadata": {
  "kernelspec": {
   "display_name": "notebooks",
   "language": "python",
   "name": "python3"
  },
  "language_info": {
   "codemirror_mode": {
    "name": "ipython",
    "version": 3
   },
   "file_extension": ".py",
   "mimetype": "text/x-python",
   "name": "python",
   "nbconvert_exporter": "python",
   "pygments_lexer": "ipython3",
   "version": "3.12.9"
  }
 },
 "nbformat": 4,
 "nbformat_minor": 5
}
